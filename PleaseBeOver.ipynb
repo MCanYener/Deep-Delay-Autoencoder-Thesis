{
 "cells": [
  {
   "cell_type": "code",
   "execution_count": 1,
   "id": "9f30d75d",
   "metadata": {},
   "outputs": [
    {
     "ename": "AttributeError",
     "evalue": "module 'numpy' has no attribute 'math'",
     "output_type": "error",
     "traceback": [
      "\u001b[1;31m---------------------------------------------------------------------------\u001b[0m",
      "\u001b[1;31mAttributeError\u001b[0m                            Traceback (most recent call last)",
      "Cell \u001b[1;32mIn[1], line 23\u001b[0m\n\u001b[0;32m     21\u001b[0m \u001b[38;5;66;03m# Compute derivatives using PySINDy's differentiation\u001b[39;00m\n\u001b[0;32m     22\u001b[0m fd \u001b[38;5;241m=\u001b[39m FiniteDifference(order\u001b[38;5;241m=\u001b[39m\u001b[38;5;241m1\u001b[39m)\n\u001b[1;32m---> 23\u001b[0m x_dot \u001b[38;5;241m=\u001b[39m \u001b[43mfd\u001b[49m\u001b[38;5;241;43m.\u001b[39;49m\u001b[43m_differentiate\u001b[49m\u001b[43m(\u001b[49m\u001b[43mx\u001b[49m\u001b[43m,\u001b[49m\u001b[43m \u001b[49m\u001b[43mt\u001b[49m\u001b[38;5;241;43m=\u001b[39;49m\u001b[43mdt\u001b[49m\u001b[43m)\u001b[49m\n\u001b[0;32m     25\u001b[0m \u001b[38;5;66;03m# SINDy setup\u001b[39;00m\n\u001b[0;32m     26\u001b[0m library \u001b[38;5;241m=\u001b[39m ps\u001b[38;5;241m.\u001b[39mPolynomialLibrary(degree\u001b[38;5;241m=\u001b[39m\u001b[38;5;241m2\u001b[39m)\n",
      "File \u001b[1;32m~\\AppData\\Local\\Packages\\PythonSoftwareFoundation.Python.3.11_qbz5n2kfra8p0\\LocalCache\\local-packages\\Python311\\site-packages\\pysindy\\differentiation\\finite_difference.py:237\u001b[0m, in \u001b[0;36mFiniteDifference._differentiate\u001b[1;34m(self, x, t)\u001b[0m\n\u001b[0;32m    234\u001b[0m \u001b[38;5;28;01mif\u001b[39;00m \u001b[38;5;129;01mnot\u001b[39;00m np\u001b[38;5;241m.\u001b[39misscalar(t):\n\u001b[0;32m    235\u001b[0m     dt \u001b[38;5;241m=\u001b[39m t[\u001b[38;5;241m1\u001b[39m] \u001b[38;5;241m-\u001b[39m t[\u001b[38;5;241m0\u001b[39m]\n\u001b[1;32m--> 237\u001b[0m coeffs \u001b[38;5;241m=\u001b[39m \u001b[38;5;28;43mself\u001b[39;49m\u001b[38;5;241;43m.\u001b[39;49m\u001b[43m_constant_coefficients\u001b[49m\u001b[43m(\u001b[49m\u001b[43mdt\u001b[49m\u001b[43m)\u001b[49m\n\u001b[0;32m    238\u001b[0m dims \u001b[38;5;241m=\u001b[39m np\u001b[38;5;241m.\u001b[39marray(x\u001b[38;5;241m.\u001b[39mshape)\n\u001b[0;32m    239\u001b[0m dims[\u001b[38;5;28mself\u001b[39m\u001b[38;5;241m.\u001b[39maxis] \u001b[38;5;241m=\u001b[39m x\u001b[38;5;241m.\u001b[39mshape[\u001b[38;5;28mself\u001b[39m\u001b[38;5;241m.\u001b[39maxis] \u001b[38;5;241m-\u001b[39m (\u001b[38;5;28mself\u001b[39m\u001b[38;5;241m.\u001b[39mn_stencil \u001b[38;5;241m-\u001b[39m \u001b[38;5;241m1\u001b[39m)\n",
      "File \u001b[1;32m~\\AppData\\Local\\Packages\\PythonSoftwareFoundation.Python.3.11_qbz5n2kfra8p0\\LocalCache\\local-packages\\Python311\\site-packages\\pysindy\\differentiation\\finite_difference.py:199\u001b[0m, in \u001b[0;36mFiniteDifference._constant_coefficients\u001b[1;34m(self, dt)\u001b[0m\n\u001b[0;32m    195\u001b[0m matrices \u001b[38;5;241m=\u001b[39m (dt \u001b[38;5;241m*\u001b[39m (np\u001b[38;5;241m.\u001b[39marange(\u001b[38;5;28mself\u001b[39m\u001b[38;5;241m.\u001b[39mn_stencil) \u001b[38;5;241m-\u001b[39m (\u001b[38;5;28mself\u001b[39m\u001b[38;5;241m.\u001b[39mn_stencil \u001b[38;5;241m-\u001b[39m \u001b[38;5;241m1\u001b[39m) \u001b[38;5;241m/\u001b[39m\u001b[38;5;241m/\u001b[39m \u001b[38;5;241m2\u001b[39m))[\n\u001b[0;32m    196\u001b[0m     np\u001b[38;5;241m.\u001b[39mnewaxis, :\n\u001b[0;32m    197\u001b[0m ] \u001b[38;5;241m*\u001b[39m\u001b[38;5;241m*\u001b[39m pows\n\u001b[0;32m    198\u001b[0m b \u001b[38;5;241m=\u001b[39m np\u001b[38;5;241m.\u001b[39mzeros(\u001b[38;5;28mself\u001b[39m\u001b[38;5;241m.\u001b[39mn_stencil)\n\u001b[1;32m--> 199\u001b[0m b[\u001b[38;5;28mself\u001b[39m\u001b[38;5;241m.\u001b[39md] \u001b[38;5;241m=\u001b[39m \u001b[43mnp\u001b[49m\u001b[38;5;241;43m.\u001b[39;49m\u001b[43mmath\u001b[49m\u001b[38;5;241m.\u001b[39mfactorial(\u001b[38;5;28mself\u001b[39m\u001b[38;5;241m.\u001b[39md)\n\u001b[0;32m    200\u001b[0m \u001b[38;5;28;01mreturn\u001b[39;00m np\u001b[38;5;241m.\u001b[39mlinalg\u001b[38;5;241m.\u001b[39msolve(matrices, b)\n",
      "File \u001b[1;32m~\\AppData\\Local\\Packages\\PythonSoftwareFoundation.Python.3.11_qbz5n2kfra8p0\\LocalCache\\local-packages\\Python311\\site-packages\\numpy\\__init__.py:427\u001b[0m, in \u001b[0;36m__getattr__\u001b[1;34m(attr)\u001b[0m\n\u001b[0;32m    424\u001b[0m     \u001b[38;5;28;01mimport\u001b[39;00m \u001b[38;5;21;01mnumpy\u001b[39;00m\u001b[38;5;21;01m.\u001b[39;00m\u001b[38;5;21;01mchar\u001b[39;00m \u001b[38;5;28;01mas\u001b[39;00m \u001b[38;5;21;01mchar\u001b[39;00m\n\u001b[0;32m    425\u001b[0m     \u001b[38;5;28;01mreturn\u001b[39;00m char\u001b[38;5;241m.\u001b[39mchararray\n\u001b[1;32m--> 427\u001b[0m \u001b[38;5;28;01mraise\u001b[39;00m \u001b[38;5;167;01mAttributeError\u001b[39;00m(\u001b[38;5;124m\"\u001b[39m\u001b[38;5;124mmodule \u001b[39m\u001b[38;5;132;01m{!r}\u001b[39;00m\u001b[38;5;124m has no attribute \u001b[39m\u001b[38;5;124m\"\u001b[39m\n\u001b[0;32m    428\u001b[0m                      \u001b[38;5;124m\"\u001b[39m\u001b[38;5;132;01m{!r}\u001b[39;00m\u001b[38;5;124m\"\u001b[39m\u001b[38;5;241m.\u001b[39mformat(\u001b[38;5;18m__name__\u001b[39m, attr))\n",
      "\u001b[1;31mAttributeError\u001b[0m: module 'numpy' has no attribute 'math'"
     ]
    }
   ],
   "source": [
    "import numpy as np\n",
    "from scipy.integrate import solve_ivp\n",
    "import pysindy as ps\n",
    "from pysindy.differentiation import FiniteDifference\n",
    "\n",
    "# Lorenz system\n",
    "def lorenz(t, state, sigma=10, beta=8/3, rho=28):\n",
    "    x, y, z = state\n",
    "    return [sigma * (y - x), x * (rho - z) - y, x * y - beta * z]\n",
    "\n",
    "# Time grid\n",
    "dt = 0.01\n",
    "t_end = 32\n",
    "t_eval = np.arange(0, t_end, dt)\n",
    "\n",
    "# Integrate\n",
    "sol = solve_ivp(lorenz, [0, t_end], [1, 1, 1], t_eval=t_eval)\n",
    "x = sol.y.T\n",
    "t = sol.t\n",
    "\n",
    "# Compute derivatives using PySINDy's differentiation\n",
    "fd = FiniteDifference(order=1)\n",
    "x_dot = fd._differentiate(x, t=dt)\n",
    "\n",
    "# SINDy setup\n",
    "library = ps.PolynomialLibrary(degree=2)\n",
    "optimizer = ps.STLSQ(threshold=0.1)\n",
    "model = ps.SINDy(feature_library=library, optimizer=optimizer)\n",
    "\n",
    "# Fit model with explicit derivatives\n",
    "model.fit(x, x_dot=x_dot, t=dt, ensemble=True, n_models=30, n_subset=500, quiet=True)\n",
    "model.print()\n"
   ]
  }
 ],
 "metadata": {
  "kernelspec": {
   "display_name": "Python 3",
   "language": "python",
   "name": "python3"
  },
  "language_info": {
   "codemirror_mode": {
    "name": "ipython",
    "version": 3
   },
   "file_extension": ".py",
   "mimetype": "text/x-python",
   "name": "python",
   "nbconvert_exporter": "python",
   "pygments_lexer": "ipython3",
   "version": "3.11.9"
  }
 },
 "nbformat": 4,
 "nbformat_minor": 5
}
