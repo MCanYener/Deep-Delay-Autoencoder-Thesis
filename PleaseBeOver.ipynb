{
 "cells": [
  {
   "cell_type": "code",
   "execution_count": 3,
   "id": "9f30d75d",
   "metadata": {},
   "outputs": [
    {
     "name": "stdout",
     "output_type": "stream",
     "text": [
      "[DEBUG] x.shape     = (1000, 3)\n",
      "[DEBUG] x_dot.shape = (1000, 3)\n",
      "(x)' = -5.893 1 + 1.000 y + 5.893 x^2 + 11.787 x y + 11.786 y^2 + 11.787 y z + 5.893 z^2\n",
      "(y)' = 1.053 1 + 1.000 z + -1.053 x^2 + -2.106 x y + -2.106 y^2 + -2.106 y z + -1.053 z^2\n",
      "(z)' = 45.792 1 + -0.998 x + -1.000 y + -0.998 z + -45.793 x^2 + -91.585 x y + -91.584 y^2 + -91.585 y z + -45.791 z^2\n"
     ]
    },
    {
     "data": {
      "text/plain": [
       "array([[ -5.89320894,   0.        ,   0.99997823,   0.        ,\n",
       "          5.8932076 ,  11.7866753 ,   0.        ,  11.78647936,\n",
       "         11.78668802,   5.89323845],\n",
       "       [  1.05294402,   0.        ,   0.        ,   0.99997394,\n",
       "         -1.05303607,  -2.10626413,   0.        ,  -2.1059157 ,\n",
       "         -2.10626314,  -1.05285717],\n",
       "       [ 45.7916576 ,  -0.99805823,  -0.9998961 ,  -0.99804298,\n",
       "        -45.79316326, -91.58490997,   0.        , -91.58383807,\n",
       "        -91.58485416, -45.79057335]])"
      ]
     },
     "execution_count": 3,
     "metadata": {},
     "output_type": "execute_result"
    }
   ],
   "source": [
    "import numpy as np\n",
    "import matplotlib.pyplot as plt\n",
    "from scipy.integrate import solve_ivp\n",
    "import pysindy as ps\n",
    "\n",
    "# Define simple linear system: dx/dt = A x\n",
    "A = np.array([[0, 1, 0],\n",
    "              [0, 0, 1],\n",
    "              [-1, -1, -1]])\n",
    "\n",
    "def rhs(t, x):\n",
    "    return A @ x\n",
    "\n",
    "# Initial condition\n",
    "x0 = [1, 0, 0]\n",
    "\n",
    "# Time grid\n",
    "t_span = (0, 10)\n",
    "dt = 0.01\n",
    "t_eval = np.arange(t_span[0], t_span[1], dt)\n",
    "\n",
    "# Integrate system\n",
    "sol = solve_ivp(rhs, t_span, x0, t_eval=t_eval, rtol=1e-10)\n",
    "\n",
    "x = sol.y.T  # Shape: (T, 3)\n",
    "t = sol.t    # Shape: (T,)\n",
    "\n",
    "# Compute derivatives explicitly\n",
    "x_dot = np.gradient(x, dt, axis=0)\n",
    "\n",
    "# Confirm shapes\n",
    "print(\"[DEBUG] x.shape     =\", x.shape)\n",
    "print(\"[DEBUG] x_dot.shape =\", x_dot.shape)\n",
    "\n",
    "# Define SINDy model (no diff method needed now)\n",
    "optimizer = ps.SR3(threshold=0.05, nu=1e-2)\n",
    "library = ps.PolynomialLibrary(degree=2)\n",
    "\n",
    "model = ps.SINDy(\n",
    "    optimizer=optimizer,\n",
    "    feature_library=library,\n",
    "    feature_names=[\"x\", \"y\", \"z\"],\n",
    "    discrete_time=False\n",
    ")\n",
    "\n",
    "# Fit using explicit derivative\n",
    "model.fit(x, x_dot=x_dot, t=dt, quiet=True)\n",
    "model.print()\n",
    "model.coefficients()"
   ]
  }
 ],
 "metadata": {
  "kernelspec": {
   "display_name": "Python 3",
   "language": "python",
   "name": "python3"
  },
  "language_info": {
   "codemirror_mode": {
    "name": "ipython",
    "version": 3
   },
   "file_extension": ".py",
   "mimetype": "text/x-python",
   "name": "python",
   "nbconvert_exporter": "python",
   "pygments_lexer": "ipython3",
   "version": "3.11.9"
  }
 },
 "nbformat": 4,
 "nbformat_minor": 5
}
